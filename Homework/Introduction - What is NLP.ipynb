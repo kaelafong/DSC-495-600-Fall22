{
 "cells": [
  {
   "cell_type": "markdown",
   "metadata": {},
   "source": [
    "[What is NLP?](#What-is-NLP?)   \n",
    "1. [Natural Language](#Natural-Language)   \n",
    "2. [How to \"Process\" Natural Language](#How-to-\"Process\"-Natural-Language)    \n",
    "3. [Sample NLP End Goals](#Sample-NLP-End-Goals)   \n",
    "\n",
    "\n",
    "# Introduction - What is NLP?\n",
    "You are about to embark on an exciting adventure in natural language processing. -Natural Language Processing in Action.\n",
    "\n",
    "Before we set out on our adventure let's survey what natural language processing (NLP) is, and what we might learn along the way. Since you signed up for this program in your limited free time, I'm sure that you already have some notion of what NLP and maybe already have a project in mind where NLP would be useful.\n",
    "\n",
    "## Natural Language\n",
    "When we say the phrase \"natural language\" we refer to the languages used between people to convey ideas to one another. For example, this could mean English, Spanish, Mandarin, etc. This is in contrast to other types of language, like computer programming languages such as python, although I believe some reasearchers have begun looking into applying NLP techniques to coding languages as well.\n",
    "\n",
    "In particular for this program we will be interested in the written word, for example, the text of books, emails, text messages, tweets, transcripts of television or radio programs, vaccuum cleaner manuals, notes passed between flirtatious seventh graders and more!\n",
    "\n",
    "## How to \"Process\" Natural Language\n",
    "When it comes to analyzing text data, the text itself is usually not suitable for any kind of algorithm. In order to process the data, you must first find some way to turn it into a more mathematical object like a vector.\n",
    "\n",
    "## Sample NLP End Goals\n",
    "There are a number of end goals for a typical NLP project.\n",
    "\n",
    "* Performing a detailed analysis of the text to extract:\n",
    "  * writing style\n",
    "  * sentiment\n",
    "  * topic\n",
    "* A classifier of some sort, for example:\n",
    "    * classifying tweets for spreading misinformation\n",
    "    * classifying a book as being written by a particular author\n",
    "    * classifying the author of the text as being suicidal\n",
    "* A text generation product:\n",
    "    * A reddit bot\n",
    "    * A website customer service chat bot\n",
    "    * A book generator\n",
    "* And more!\n"
   ]
  },
  {
   "cell_type": "code",
   "execution_count": null,
   "metadata": {},
   "outputs": [],
   "source": []
  }
 ],
 "metadata": {
  "kernelspec": {
   "display_name": "Python 3 (ipykernel)",
   "language": "python",
   "name": "python3"
  },
  "language_info": {
   "codemirror_mode": {
    "name": "ipython",
    "version": 3
   },
   "file_extension": ".py",
   "mimetype": "text/x-python",
   "name": "python",
   "nbconvert_exporter": "python",
   "pygments_lexer": "ipython3",
   "version": "3.9.12"
  }
 },
 "nbformat": 4,
 "nbformat_minor": 4
}
