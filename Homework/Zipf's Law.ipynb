{
 "cells": [
  {
   "cell_type": "markdown",
   "metadata": {},
   "source": [
    "# Zipf's Law\n",
    "\n",
    "Zipf's law is based upon an empirical observation about the frequency distribution of the words that occur within a given corpus of documents.\n",
    "\n",
    "We'll explore this on our own, before stating the \"law\" at the end. I'll also provide you a link to a paper that explores this \"law\" in more depth."
   ]
  },
  {
   "cell_type": "code",
   "execution_count": 1,
   "metadata": {},
   "outputs": [
    {
     "name": "stderr",
     "output_type": "stream",
     "text": [
      "Matplotlib is building the font cache; this may take a moment.\n"
     ]
    }
   ],
   "source": [
    "## We'll want the following packages\n",
    "\n",
    "# for data handling\n",
    "import pandas as pd\n",
    "import numpy as np\n",
    "\n",
    "# for nlp tokenizing\n",
    "from nltk.tokenize import word_tokenize\n",
    "\n",
    "# for plotting\n",
    "import matplotlib.pyplot as plt\n",
    "from seaborn import set_style\n",
    "# puts a white grid behind your plots\n",
    "set_style(\"whitegrid\")"
   ]
  },
  {
   "cell_type": "markdown",
   "metadata": {},
   "source": [
    "Let's look at our Two reviews data sets. The following code is a copy and paste from the NLP Data Folder."
   ]
  },
  {
   "cell_type": "code",
   "execution_count": 2,
   "metadata": {},
   "outputs": [
    {
     "data": {
      "text/html": [
       "<div>\n",
       "<style scoped>\n",
       "    .dataframe tbody tr th:only-of-type {\n",
       "        vertical-align: middle;\n",
       "    }\n",
       "\n",
       "    .dataframe tbody tr th {\n",
       "        vertical-align: top;\n",
       "    }\n",
       "\n",
       "    .dataframe thead th {\n",
       "        text-align: right;\n",
       "    }\n",
       "</style>\n",
       "<table border=\"1\" class=\"dataframe\">\n",
       "  <thead>\n",
       "    <tr style=\"text-align: right;\">\n",
       "      <th></th>\n",
       "      <th>review</th>\n",
       "      <th>sentiment</th>\n",
       "    </tr>\n",
       "  </thead>\n",
       "  <tbody>\n",
       "    <tr>\n",
       "      <th>0</th>\n",
       "      <td>One of the other reviewers has mentioned that ...</td>\n",
       "      <td>positive</td>\n",
       "    </tr>\n",
       "    <tr>\n",
       "      <th>1</th>\n",
       "      <td>A wonderful little production. &lt;br /&gt;&lt;br /&gt;The...</td>\n",
       "      <td>positive</td>\n",
       "    </tr>\n",
       "  </tbody>\n",
       "</table>\n",
       "</div>"
      ],
      "text/plain": [
       "                                              review sentiment\n",
       "0  One of the other reviewers has mentioned that ...  positive\n",
       "1  A wonderful little production. <br /><br />The...  positive"
      ]
     },
     "execution_count": 2,
     "metadata": {},
     "output_type": "execute_result"
    }
   ],
   "source": [
    "movie_df = pd.read_csv('Movie_Review.csv')\n",
    "movie_df.head(2)"
   ]
  },
  {
   "cell_type": "code",
   "execution_count": 3,
   "metadata": {},
   "outputs": [
    {
     "data": {
      "text/html": [
       "<div>\n",
       "<style scoped>\n",
       "    .dataframe tbody tr th:only-of-type {\n",
       "        vertical-align: middle;\n",
       "    }\n",
       "\n",
       "    .dataframe tbody tr th {\n",
       "        vertical-align: top;\n",
       "    }\n",
       "\n",
       "    .dataframe thead th {\n",
       "        text-align: right;\n",
       "    }\n",
       "</style>\n",
       "<table border=\"1\" class=\"dataframe\">\n",
       "  <thead>\n",
       "    <tr style=\"text-align: right;\">\n",
       "      <th></th>\n",
       "      <th>Summary</th>\n",
       "      <th>Text</th>\n",
       "    </tr>\n",
       "  </thead>\n",
       "  <tbody>\n",
       "    <tr>\n",
       "      <th>0</th>\n",
       "      <td>Good Quality Dog Food</td>\n",
       "      <td>I have bought several of the Vitality canned d...</td>\n",
       "    </tr>\n",
       "    <tr>\n",
       "      <th>1</th>\n",
       "      <td>Not as Advertised</td>\n",
       "      <td>Product arrived labeled as Jumbo Salted Peanut...</td>\n",
       "    </tr>\n",
       "  </tbody>\n",
       "</table>\n",
       "</div>"
      ],
      "text/plain": [
       "                 Summary                                               Text\n",
       "0  Good Quality Dog Food  I have bought several of the Vitality canned d...\n",
       "1      Not as Advertised  Product arrived labeled as Jumbo Salted Peanut..."
      ]
     },
     "execution_count": 3,
     "metadata": {},
     "output_type": "execute_result"
    }
   ],
   "source": [
    "food_df = pd.read_csv('Food_Review.csv')\n",
    "food_df.head(2)"
   ]
  },
  {
   "cell_type": "code",
   "execution_count": 4,
   "metadata": {},
   "outputs": [],
   "source": [
    "# We'll keep it as lowercase text for simplicity\n",
    "movie_df['review_lower'] =movie_df.review.str.lower()\n",
    "food_df['text_lower'] = food_df.Text.str.lower()"
   ]
  },
  {
   "cell_type": "code",
   "execution_count": 5,
   "metadata": {},
   "outputs": [],
   "source": [
    "words_list = movie_df['review_lower'].tolist()\n",
    "raw_text = ''.join(words_list)\n",
    "movie_words = raw_text.split()"
   ]
  },
  {
   "cell_type": "code",
   "execution_count": 6,
   "metadata": {},
   "outputs": [],
   "source": [
    "words_list = food_df['text_lower'].tolist()\n",
    "raw_text = ''.join(words_list)\n",
    "food_words = raw_text.split()"
   ]
  },
  {
   "cell_type": "markdown",
   "metadata": {},
   "source": [
    "Another way to tokenize, is using `word_tokenize`."
   ]
  },
  {
   "cell_type": "code",
   "execution_count": 7,
   "metadata": {},
   "outputs": [],
   "source": [
    "movie_df['tokens'] = movie_df['review_lower'].apply(word_tokenize)\n",
    "food_df['tokens'] = food_df['text_lower'].apply(word_tokenize) "
   ]
  },
  {
   "cell_type": "markdown",
   "metadata": {},
   "source": [
    "### Your Turn\n",
    "Okay now you write a function that will take in these tokens and produce a `word` frequency dataframe. The dataframe should contain a word column and a frequency column. Call your dataframes  `Mov_df` and `FOD_df`.\n",
    "\n",
    "It will likely be easiest to write this as a function that you can apply to both token arrays.\n",
    "\n",
    "__Note:__ While this may be confusing, don't create the word frequency vector by creating a bag of words basis set. Every entry in your vector should be . Please ask for clarification if this note was confusing."
   ]
  },
  {
   "cell_type": "code",
   "execution_count": 8,
   "metadata": {},
   "outputs": [],
   "source": [
    "### Code here\n",
    "# make word counts\n",
    "def word_freq(tokens):\n",
    "    word_dict = {}\n",
    "    \n",
    "    for word in tokens:\n",
    "        if word in word_dict.keys():\n",
    "            word_dict[word] = word_dict[word] + 1\n",
    "        else:\n",
    "            word_dict[word] = 1\n",
    "            \n",
    "    df = pd.DataFrame({'word':word_dict.keys(),\n",
    "                            'times_used':word_dict.values()})\n",
    "    \n",
    "    df['frequency'] = df['times_used']/df.times_used.sum()\n",
    "    \n",
    "    return df[['word','frequency']].sort_values('frequency', ascending=False).reset_index(drop=True)"
   ]
  },
  {
   "cell_type": "code",
   "execution_count": 9,
   "metadata": {},
   "outputs": [],
   "source": [
    "### Code here\n",
    "Mov_df = word_freq(movie_words)\n",
    "FOD_df = word_freq(food_words)"
   ]
  },
  {
   "cell_type": "markdown",
   "metadata": {},
   "source": [
    "### Producing Ranks for the Words\n",
    "Now that you have dataframes, run the following code to add a column that ranks the words based on their frequency."
   ]
  },
  {
   "cell_type": "code",
   "execution_count": 10,
   "metadata": {},
   "outputs": [],
   "source": [
    "# rank documentation\n",
    "# https://pandas.pydata.org/pandas-docs/stable/reference/api/pandas.DataFrame.rank.html\n",
    "Mov_df['word_rank'] = Mov_df['frequency'].rank(ascending=False)\n",
    "FOD_df['word_rank'] = FOD_df['frequency'].rank(ascending=False)"
   ]
  },
  {
   "cell_type": "code",
   "execution_count": 12,
   "metadata": {},
   "outputs": [
    {
     "data": {
      "text/html": [
       "<div>\n",
       "<style scoped>\n",
       "    .dataframe tbody tr th:only-of-type {\n",
       "        vertical-align: middle;\n",
       "    }\n",
       "\n",
       "    .dataframe tbody tr th {\n",
       "        vertical-align: top;\n",
       "    }\n",
       "\n",
       "    .dataframe thead th {\n",
       "        text-align: right;\n",
       "    }\n",
       "</style>\n",
       "<table border=\"1\" class=\"dataframe\">\n",
       "  <thead>\n",
       "    <tr style=\"text-align: right;\">\n",
       "      <th></th>\n",
       "      <th>word</th>\n",
       "      <th>frequency</th>\n",
       "      <th>word_rank</th>\n",
       "    </tr>\n",
       "  </thead>\n",
       "  <tbody>\n",
       "    <tr>\n",
       "      <th>32692</th>\n",
       "      <td>neri.</td>\n",
       "      <td>0.000004</td>\n",
       "      <td>22102.5</td>\n",
       "    </tr>\n",
       "    <tr>\n",
       "      <th>32693</th>\n",
       "      <td>it.just</td>\n",
       "      <td>0.000004</td>\n",
       "      <td>22102.5</td>\n",
       "    </tr>\n",
       "    <tr>\n",
       "      <th>32694</th>\n",
       "      <td>it.go</td>\n",
       "      <td>0.000004</td>\n",
       "      <td>22102.5</td>\n",
       "    </tr>\n",
       "    <tr>\n",
       "      <th>32695</th>\n",
       "      <td>making.but,</td>\n",
       "      <td>0.000004</td>\n",
       "      <td>22102.5</td>\n",
       "    </tr>\n",
       "    <tr>\n",
       "      <th>32696</th>\n",
       "      <td>planes</td>\n",
       "      <td>0.000004</td>\n",
       "      <td>22102.5</td>\n",
       "    </tr>\n",
       "  </tbody>\n",
       "</table>\n",
       "</div>"
      ],
      "text/plain": [
       "              word  frequency  word_rank\n",
       "32692        neri.   0.000004    22102.5\n",
       "32693      it.just   0.000004    22102.5\n",
       "32694        it.go   0.000004    22102.5\n",
       "32695  making.but,   0.000004    22102.5\n",
       "32696       planes   0.000004    22102.5"
      ]
     },
     "execution_count": 12,
     "metadata": {},
     "output_type": "execute_result"
    }
   ],
   "source": [
    "Mov_df.tail()"
   ]
  },
  {
   "cell_type": "code",
   "execution_count": 13,
   "metadata": {},
   "outputs": [
    {
     "data": {
      "text/html": [
       "<div>\n",
       "<style scoped>\n",
       "    .dataframe tbody tr th:only-of-type {\n",
       "        vertical-align: middle;\n",
       "    }\n",
       "\n",
       "    .dataframe tbody tr th {\n",
       "        vertical-align: top;\n",
       "    }\n",
       "\n",
       "    .dataframe thead th {\n",
       "        text-align: right;\n",
       "    }\n",
       "</style>\n",
       "<table border=\"1\" class=\"dataframe\">\n",
       "  <thead>\n",
       "    <tr style=\"text-align: right;\">\n",
       "      <th></th>\n",
       "      <th>word</th>\n",
       "      <th>frequency</th>\n",
       "      <th>word_rank</th>\n",
       "    </tr>\n",
       "  </thead>\n",
       "  <tbody>\n",
       "    <tr>\n",
       "      <th>10801</th>\n",
       "      <td>stregnth,</td>\n",
       "      <td>0.000014</td>\n",
       "      <td>7354.5</td>\n",
       "    </tr>\n",
       "    <tr>\n",
       "      <th>10802</th>\n",
       "      <td>opinion,love</td>\n",
       "      <td>0.000014</td>\n",
       "      <td>7354.5</td>\n",
       "    </tr>\n",
       "    <tr>\n",
       "      <th>10803</th>\n",
       "      <td>mountains</td>\n",
       "      <td>0.000014</td>\n",
       "      <td>7354.5</td>\n",
       "    </tr>\n",
       "    <tr>\n",
       "      <th>10804</th>\n",
       "      <td>you.one</td>\n",
       "      <td>0.000014</td>\n",
       "      <td>7354.5</td>\n",
       "    </tr>\n",
       "    <tr>\n",
       "      <th>10805</th>\n",
       "      <td>/&gt;xanthan</td>\n",
       "      <td>0.000014</td>\n",
       "      <td>7354.5</td>\n",
       "    </tr>\n",
       "  </tbody>\n",
       "</table>\n",
       "</div>"
      ],
      "text/plain": [
       "               word  frequency  word_rank\n",
       "10801     stregnth,   0.000014     7354.5\n",
       "10802  opinion,love   0.000014     7354.5\n",
       "10803     mountains   0.000014     7354.5\n",
       "10804       you.one   0.000014     7354.5\n",
       "10805     />xanthan   0.000014     7354.5"
      ]
     },
     "execution_count": 13,
     "metadata": {},
     "output_type": "execute_result"
    }
   ],
   "source": [
    "FOD_df.tail()"
   ]
  },
  {
   "cell_type": "markdown",
   "metadata": {},
   "source": [
    "Now use `matplotlib`'s `scatter` to plot the -transform rank on the -axis and the -transform frequency on the -axis (both base ). Make the Prisoner of Azkaban points blue and the Goblet of Fire points red, and add a legend.\n",
    "\n",
    "Hint: `np.log10` produces the $\\log$-transform of an array."
   ]
  },
  {
   "cell_type": "code",
   "execution_count": 14,
   "metadata": {},
   "outputs": [
    {
     "data": {
      "image/png": "[encoded data removed]",
      "text/plain": [
       "<Figure size 720x720 with 1 Axes>"
      ]
     },
     "metadata": {},
     "output_type": "display_data"
    }
   ],
   "source": [
    "## plot here\n",
    "plt.figure(figsize=(10,10))\n",
    "\n",
    "plt.scatter(np.log10(Mov_df.word_rank.values),\n",
    "            np.log10(Mov_df.frequency.values), \n",
    "            c='b', \n",
    "            s=20,\n",
    "            label=\"Movie Reviews\")\n",
    "plt.scatter(np.log10(FOD_df.word_rank.values), \n",
    "            np.log10(FOD_df.frequency.values), \n",
    "            c='r', \n",
    "            s=20,\n",
    "            label=\"Food Reviews\")\n",
    "\n",
    "plt.legend(fontsize=14)\n",
    "\n",
    "plt.ylabel(\"$\\log$ Word Frequency\", fontsize=16)\n",
    "plt.xlabel(\"$\\log$ Rank\", fontsize=16)\n",
    "\n",
    "plt.show()"
   ]
  },
  {
   "cell_type": "markdown",
   "metadata": {},
   "source": [
    "### Adding a Regression Line\n",
    "Now let's add a simple linear regression line to the plot you just produced. Running the code chunks below will give you arrays to add with a `plt.plot()` call. Add this line as a black dotted line with `alpha=.7`."
   ]
  },
  {
   "cell_type": "code",
   "execution_count": 15,
   "metadata": {},
   "outputs": [],
   "source": [
    "# combines the data into a single array for regression\n",
    "x = np.log10(np.array(pd.concat([Mov_df['word_rank'],FOD_df['word_rank']])))\n",
    "y = np.log10(np.array(pd.concat([Mov_df['frequency'],FOD_df['frequency']])))"
   ]
  },
  {
   "cell_type": "code",
   "execution_count": 16,
   "metadata": {},
   "outputs": [],
   "source": [
    "# import the LinearRegression class from sklearn\n",
    "from sklearn.linear_model import LinearRegression"
   ]
  },
  {
   "cell_type": "code",
   "execution_count": 17,
   "metadata": {},
   "outputs": [],
   "source": [
    "# make a LinearRegression object\n",
    "slr = LinearRegression()\n",
    "\n",
    "# fit the model\n",
    "slr.fit(x.reshape(-1,1),y.ravel())\n",
    "\n",
    "# These are the x and y for your regression line\n",
    "xs_pred = np.linspace(-.1,5,100)\n",
    "ys_pred = slr.predict(xs_pred.reshape(-1,1))"
   ]
  },
  {
   "cell_type": "code",
   "execution_count": 18,
   "metadata": {},
   "outputs": [
    {
     "data": {
      "image/png": "[encoded data removed]",
      "text/plain": [
       "<Figure size 720x720 with 1 Axes>"
      ]
     },
     "metadata": {},
     "output_type": "display_data"
    }
   ],
   "source": [
    "## Plot here\n",
    "\n",
    "plt.figure(figsize=(10,10))\n",
    "\n",
    "plt.scatter(np.log10(Mov_df.word_rank.values),\n",
    "            np.log10(Mov_df.frequency.values), \n",
    "            c='b', \n",
    "            s=20,\n",
    "            label=\"Movie Reviews\")\n",
    "plt.scatter(np.log10(FOD_df.word_rank.values),\n",
    "            np.log10(FOD_df.frequency.values),\n",
    "            c='r', \n",
    "            s=20,\n",
    "            label=\"Food Reviews\")\n",
    "\n",
    "plt.plot(xs_pred,\n",
    "            ys_pred,\n",
    "            'k--',\n",
    "            alpha=.7,\n",
    "            label=\"Regression Line\")\n",
    "\n",
    "plt.legend(fontsize=14)\n",
    "\n",
    "plt.ylabel(\"$\\log$ Word Frequency\", fontsize=16)\n",
    "plt.xlabel(\"$\\log$ Rank\", fontsize=16)\n",
    "\n",
    "plt.show()"
   ]
  },
  {
   "cell_type": "markdown",
   "metadata": {},
   "source": [
    "As we can see the two sets of observations tend to fall along a straight line. This is the idea behind Zipf's Law.\n",
    "\n",
    "From Wikipedia Zipf's law states that:\n",
    "\n",
    "_The frequency of any word is inversely proportional to its rank in the frequency table_.\n",
    "\n",
    "In more mathematical words there is the following observed relationship between the word's rank,$r$ , and the frequency,$f(r)$ :\n",
    "\n",
    "$$\n",
    "f(r) \\ \\ \\alpha \\ \\ \\frac{1}{r^{\\alpha}}\n",
    "$$\n",
    " \n",
    "across the documents within a corpus, meaning the frequency of a word roughly follows a power law of its rank.\n",
    "\n",
    "\n",
    "### A Note\n",
    "It's important to note that this is an empirical relationship, not something that has been proven rigorously. As such there are critiques to this that may be interesting to you, https://www.ncbi.nlm.nih.gov/pmc/articles/PMC4176592/. But for the most part it seems that this relationship roughly holds.\n"
   ]
  },
  {
   "cell_type": "code",
   "execution_count": null,
   "metadata": {},
   "outputs": [],
   "source": []
  }
 ],
 "metadata": {
  "kernelspec": {
   "display_name": "Python 3 (ipykernel)",
   "language": "python",
   "name": "python3"
  },
  "language_info": {
   "codemirror_mode": {
    "name": "ipython",
    "version": 3
   },
   "file_extension": ".py",
   "mimetype": "text/x-python",
   "name": "python",
   "nbconvert_exporter": "python",
   "pygments_lexer": "ipython3",
   "version": "3.9.12"
  }
 },
 "nbformat": 4,
 "nbformat_minor": 4
}
